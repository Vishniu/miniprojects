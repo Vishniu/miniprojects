{
 "cells": [
  {
   "cell_type": "code",
   "execution_count": 3,
   "metadata": {},
   "outputs": [
    {
     "name": "stdout",
     "output_type": "stream",
     "text": [
      "Collecting cv\n",
      "  Downloading cv-1.0.0-py3-none-any.whl (7.3 kB)\n",
      "Installing collected packages: cv\n",
      "Successfully installed cv-1.0.0\n",
      "Note: you may need to restart the kernel to use updated packages.\n"
     ]
    }
   ],
   "source": [
    "pip install cv"
   ]
  },
  {
   "cell_type": "code",
   "execution_count": 5,
   "metadata": {},
   "outputs": [
    {
     "ename": "ModuleNotFoundError",
     "evalue": "No module named 'cv2'",
     "output_type": "error",
     "traceback": [
      "\u001b[1;31m---------------------------------------------------------------------------\u001b[0m",
      "\u001b[1;31mModuleNotFoundError\u001b[0m                       Traceback (most recent call last)",
      "\u001b[1;32m<ipython-input-5-3dafde7dadb9>\u001b[0m in \u001b[0;36m<module>\u001b[1;34m\u001b[0m\n\u001b[0;32m      1\u001b[0m \u001b[1;31m#All the imports go here\u001b[0m\u001b[1;33m\u001b[0m\u001b[1;33m\u001b[0m\u001b[1;33m\u001b[0m\u001b[0m\n\u001b[0;32m      2\u001b[0m \u001b[1;32mimport\u001b[0m \u001b[0mnumpy\u001b[0m \u001b[1;32mas\u001b[0m \u001b[0mnp\u001b[0m\u001b[1;33m\u001b[0m\u001b[1;33m\u001b[0m\u001b[0m\n\u001b[1;32m----> 3\u001b[1;33m \u001b[1;32mimport\u001b[0m \u001b[0mcv2\u001b[0m\u001b[1;33m\u001b[0m\u001b[1;33m\u001b[0m\u001b[0m\n\u001b[0m\u001b[0;32m      4\u001b[0m \u001b[1;33m\u001b[0m\u001b[0m\n\u001b[0;32m      5\u001b[0m \u001b[1;31m#Initializing the face and eye cascade classifiers from xml files\u001b[0m\u001b[1;33m\u001b[0m\u001b[1;33m\u001b[0m\u001b[1;33m\u001b[0m\u001b[0m\n",
      "\u001b[1;31mModuleNotFoundError\u001b[0m: No module named 'cv2'"
     ]
    }
   ],
   "source": [
    "#All the imports go here \n",
    "import numpy as np \n",
    "import cv2 \n",
    "\n",
    "#Initializing the face and eye cascade classifiers from xml files \n",
    "face_cascade = cv2.CascadeClassifier('haarcascade_frontalface_default.xml') \n",
    "eye_cascade = cv2.CascadeClassifier('haarcascade_eye_tree_eyeglasses.xml') \n",
    "\n",
    "#Variable store execution state \n",
    "first_read = True\n",
    "\n",
    "#Starting the video capture \n",
    "cap = cv2.VideoCapture(0) \n",
    "ret,img = cap.read() \n",
    "\n",
    "while(ret): \n",
    "\tret,img = cap.read() \n",
    "\t#Coverting the recorded image to grayscale \n",
    "\tgray = cv2.cvtColor(img, cv2.COLOR_BGR2GRAY) \n",
    "\t#Applying filter to remove impurities \n",
    "\tgray = cv2.bilateralFilter(gray,5,1,1) \n",
    "\n",
    "\t#Detecting the face for region of image to be fed to eye classifier \n",
    "\tfaces = face_cascade.detectMultiScale(gray, 1.3, 5,minSize=(200,200)) \n",
    "\tif(len(faces)>0): \n",
    "\t\tfor (x,y,w,h) in faces: \n",
    "\t\t\timg = cv2.rectangle(img,(x,y),(x+w,y+h),(0,255,0),2) \n",
    "\n",
    "\t\t\t#roi_face is face which is input to eye classifier \n",
    "\t\t\troi_face = gray[y:y+h,x:x+w] \n",
    "\t\t\troi_face_clr = img[y:y+h,x:x+w] \n",
    "\t\t\teyes = eye_cascade.detectMultiScale(roi_face,1.3,5,minSize=(50,50)) \n",
    "\n",
    "\t\t\t#Examining the length of eyes object for eyes \n",
    "\t\t\tif(len(eyes)>=2): \n",
    "\t\t\t\t#Check if program is running for detection \n",
    "\t\t\t\tif(first_read): \n",
    "\t\t\t\t\tcv2.putText(img, \n",
    "\t\t\t\t\t\"Eye detected press s to begin\", \n",
    "\t\t\t\t\t(70,70), \n",
    "\t\t\t\t\tcv2.FONT_HERSHEY_PLAIN, 3, \n",
    "\t\t\t\t\t(0,255,0),2) \n",
    "\t\t\t\telse: \n",
    "\t\t\t\t\tcv2.putText(img, \n",
    "\t\t\t\t\t\"Eyes open!\", (70,70), \n",
    "\t\t\t\t\tcv2.FONT_HERSHEY_PLAIN, 2, \n",
    "\t\t\t\t\t(255,255,255),2) \n",
    "\t\t\telse: \n",
    "\t\t\t\tif(first_read): \n",
    "\t\t\t\t\t#To ensure if the eyes are present before starting \n",
    "\t\t\t\t\tcv2.putText(img, \n",
    "\t\t\t\t\t\"No eyes detected\", (70,70), \n",
    "\t\t\t\t\tcv2.FONT_HERSHEY_PLAIN, 3, \n",
    "\t\t\t\t\t(0,0,255),2) \n",
    "\t\t\t\telse: \n",
    "\t\t\t\t\t#This will print on console and restart the algorithm \n",
    "\t\t\t\t\tprint(\"Blink detected--------------\") \n",
    "\t\t\t\t\tcv2.waitKey(3000) \n",
    "\t\t\t\t\tfirst_read=True\n",
    "\t\t\t\n",
    "\telse: \n",
    "\t\tcv2.putText(img, \n",
    "\t\t\"No face detected\",(100,100), \n",
    "\t\tcv2.FONT_HERSHEY_PLAIN, 3, \n",
    "\t\t(0,255,0),2) \n",
    "\n",
    "\t#Controlling the algorithm with keys \n",
    "\tcv2.imshow('img',img) \n",
    "\ta = cv2.waitKey(1) \n",
    "\tif(a==ord('q')): \n",
    "\t\tbreak\n",
    "\telif(a==ord('s') and first_read): \n",
    "\t\t#This will start the detection \n",
    "\t\tfirst_read = False\n",
    "\n",
    "cap.release() \n",
    "cv2.destroyAllWindows() \n"
   ]
  },
  {
   "cell_type": "code",
   "execution_count": null,
   "metadata": {},
   "outputs": [],
   "source": []
  },
  {
   "cell_type": "code",
   "execution_count": null,
   "metadata": {},
   "outputs": [],
   "source": []
  }
 ],
 "metadata": {
  "kernelspec": {
   "display_name": "Python 3",
   "language": "python",
   "name": "python3"
  },
  "language_info": {
   "codemirror_mode": {
    "name": "ipython",
    "version": 3
   },
   "file_extension": ".py",
   "mimetype": "text/x-python",
   "name": "python",
   "nbconvert_exporter": "python",
   "pygments_lexer": "ipython3",
   "version": "3.8.3"
  }
 },
 "nbformat": 4,
 "nbformat_minor": 4
}
