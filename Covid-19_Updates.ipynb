{
 "cells": [
  {
   "cell_type": "code",
   "execution_count": 9,
   "metadata": {},
   "outputs": [
    {
     "name": "stdout",
     "output_type": "stream",
     "text": [
      "Requirement already satisfied: requests in c:\\users\\kn805\\anaconda3\\lib\\site-packages (2.24.0)\n",
      "Requirement already satisfied: idna<3,>=2.5 in c:\\users\\kn805\\anaconda3\\lib\\site-packages (from requests) (2.10)\n",
      "Requirement already satisfied: urllib3!=1.25.0,!=1.25.1,<1.26,>=1.21.1 in c:\\users\\kn805\\anaconda3\\lib\\site-packages (from requests) (1.25.9)\n",
      "Requirement already satisfied: chardet<4,>=3.0.2 in c:\\users\\kn805\\anaconda3\\lib\\site-packages (from requests) (3.0.4)\n",
      "Requirement already satisfied: certifi>=2017.4.17 in c:\\users\\kn805\\anaconda3\\lib\\site-packages (from requests) (2020.6.20)\n",
      "Note: you may need to restart the kernel to use updated packages.\n"
     ]
    }
   ],
   "source": [
    "pip install requests\n"
   ]
  },
  {
   "cell_type": "code",
   "execution_count": 10,
   "metadata": {},
   "outputs": [
    {
     "name": "stdout",
     "output_type": "stream",
     "text": [
      "Requirement already satisfied: beautifulsoup4 in c:\\users\\kn805\\anaconda3\\lib\\site-packages (4.9.1)\n",
      "Requirement already satisfied: soupsieve>1.2 in c:\\users\\kn805\\anaconda3\\lib\\site-packages (from beautifulsoup4) (2.0.1)\n",
      "Note: you may need to restart the kernel to use updated packages.\n"
     ]
    }
   ],
   "source": [
    "pip install beautifulsoup4\n"
   ]
  },
  {
   "cell_type": "code",
   "execution_count": 11,
   "metadata": {},
   "outputs": [
    {
     "name": "stdout",
     "output_type": "stream",
     "text": [
      "Total Cases : 25,406,603\n",
      "Recovered Cases : 17,716,970\n",
      "Total Deaths : 850,878\n"
     ]
    }
   ],
   "source": [
    "# importing libraries \n",
    "from bs4 import BeautifulSoup as BS \n",
    "import requests \n",
    "\n",
    "\n",
    "# method to get the info \n",
    "def get_info(url): \n",
    "\t\n",
    "\t# getting the request from url \n",
    "\tdata = requests.get(url) \n",
    "\n",
    "\t# converting the text \n",
    "\tsoup = BS(data.text, 'html.parser') \n",
    "\t\n",
    "\t# finding meta info for total cases \n",
    "\ttotal = soup.find(\"div\", class_ = \"maincounter-number\").text \n",
    "\t\n",
    "\t# filtering it \n",
    "\ttotal = total[1 : len(total) - 2] \n",
    "\t\n",
    "\t# finding meta info for other numbers \n",
    "\tother = soup.find_all(\"span\", class_ = \"number-table\") \n",
    "\t\n",
    "\t# getting recovered cases number \n",
    "\trecovered = other[2].text \n",
    "\t\n",
    "\t# getting death cases number \n",
    "\tdeaths = other[3].text \n",
    "\t\n",
    "\t# filtering the data \n",
    "\tdeaths = deaths[1:] \n",
    "\t\n",
    "\t# saving details in dictionary \n",
    "\tans ={'Total Cases' : total, 'Recovered Cases' : recovered, \n",
    "\t\t\t\t\t\t\t\t'Total Deaths' : deaths} \n",
    "\t\n",
    "\t# returnng the dictionary \n",
    "\treturn ans \n",
    "\n",
    "# url of the corona virus cases \n",
    "url = \"https://www.worldometers.info/coronavirus/\"\n",
    "\n",
    "# calling the get_info method \n",
    "ans = get_info(url) \n",
    "\n",
    "# printing the ans \n",
    "for i, j in ans.items(): \n",
    "\tprint(i + \" : \" + j) \n"
   ]
  },
  {
   "cell_type": "code",
   "execution_count": null,
   "metadata": {},
   "outputs": [],
   "source": []
  }
 ],
 "metadata": {
  "kernelspec": {
   "display_name": "Python 3",
   "language": "python",
   "name": "python3"
  },
  "language_info": {
   "codemirror_mode": {
    "name": "ipython",
    "version": 3
   },
   "file_extension": ".py",
   "mimetype": "text/x-python",
   "name": "python",
   "nbconvert_exporter": "python",
   "pygments_lexer": "ipython3",
   "version": "3.8.3"
  }
 },
 "nbformat": 4,
 "nbformat_minor": 4
}
